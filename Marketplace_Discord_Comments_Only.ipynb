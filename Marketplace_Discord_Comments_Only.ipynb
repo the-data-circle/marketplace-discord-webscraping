{
 "cells": [
  {
   "cell_type": "code",
   "execution_count": 1,
   "id": "5be1b06a",
   "metadata": {},
   "outputs": [],
   "source": [
    "#Import Dependencies"
   ]
  },
  {
   "cell_type": "code",
   "execution_count": 2,
   "id": "7f8a41a7",
   "metadata": {},
   "outputs": [],
   "source": [
    "#Configure Chromedriver"
   ]
  },
  {
   "cell_type": "code",
   "execution_count": 3,
   "id": "eb428574",
   "metadata": {},
   "outputs": [],
   "source": [
    "# Initialize Chrome WebDriver"
   ]
  },
  {
   "cell_type": "code",
   "execution_count": 4,
   "id": "c7798c54",
   "metadata": {},
   "outputs": [],
   "source": [
    "#Setup search parameters"
   ]
  },
  {
   "cell_type": "code",
   "execution_count": 5,
   "id": "11aa27b7",
   "metadata": {},
   "outputs": [],
   "source": [
    "# Set up base URL\n",
    "\n",
    "# Visit the website\n"
   ]
  },
  {
   "cell_type": "code",
   "execution_count": 6,
   "id": "9ad04618",
   "metadata": {},
   "outputs": [],
   "source": [
    "# Locate the button with aria-label=\"Decline optional cookies\" (Europe)"
   ]
  },
  {
   "cell_type": "code",
   "execution_count": 7,
   "id": "aef2be3d",
   "metadata": {},
   "outputs": [],
   "source": [
    "# Locate the button for the login pop-up with aria-label=\"Close\""
   ]
  },
  {
   "cell_type": "code",
   "execution_count": null,
   "id": "5c5d1435",
   "metadata": {},
   "outputs": [],
   "source": [
    "#Scroll down to load all results\n",
    "\n",
    "    # Get the initial scroll position\n",
    "\n",
    "    \n",
    "        # Scroll down to the bottom of the page using JavaScript\n",
    "\n",
    "        # Get the new scroll position\n",
    "\n",
    "        # Check if we've reached the bottom\n",
    "        \n",
    "        # Update the scroll position\n",
    "        "
   ]
  },
  {
   "cell_type": "code",
   "execution_count": 8,
   "id": "d3bd7641",
   "metadata": {},
   "outputs": [],
   "source": [
    "# Retrieve the HTML\n",
    "\n",
    "# Use BeautifulSoup to parse the HTML\n",
    "\n",
    "#Close the browser\n"
   ]
  },
  {
   "cell_type": "code",
   "execution_count": 9,
   "id": "c08984be",
   "metadata": {},
   "outputs": [],
   "source": [
    "# Find all link elements\n",
    "\n",
    "# Only keep items where the text matches your search terms and desired location\n",
    "\n",
    "# Create empty list to store product data\n",
    "\n",
    "# Store the items url and text into a list of dictionaries\n"
   ]
  },
  {
   "cell_type": "code",
   "execution_count": 10,
   "id": "39a1421f",
   "metadata": {},
   "outputs": [],
   "source": [
    "# Create an empty list to store product data\n",
    "\n",
    "    # Regular expression to find numeric values\n",
    "    \n",
    "    \n",
    "    # Extracting prices\n",
    "    # Iterate through lines to find the first line with numbers\n",
    "\n",
    "    # Extract title\n",
    "\n",
    "    # Extract location\n",
    "\n",
    "    # Add extracted data to a list of dictionaries\n"
   ]
  },
  {
   "cell_type": "code",
   "execution_count": null,
   "id": "6372b1d4",
   "metadata": {},
   "outputs": [],
   "source": [
    "# Convert extracted data into a Pandas Dataframe\n",
    "\n",
    "# Sort the DataFrame by the \"price\" column in ascending order\n",
    "\n",
    "# Get the 10 cheapest entries\n"
   ]
  },
  {
   "cell_type": "code",
   "execution_count": 11,
   "id": "b46b8e32",
   "metadata": {},
   "outputs": [],
   "source": [
    "# Create an empty message\n",
    "\n",
    "# Iterate over each row in the DataFrame containing the 10 cheapest items\n",
    "\n",
    "    # Append the title, price, and URL of each item to the message string\n",
    "\n",
    "\n",
    "# URL of the Discord channel where the message will be posted\n",
    "\n",
    "\n",
    "# Payload containing the message to be sent\n",
    "\n",
    "\n",
    "# Headers including the authorization token for the Discord API\n",
    "\n",
    "\n",
    "# Send a POST request to the Discord API with the payload and headers\n"
   ]
  }
 ],
 "metadata": {
  "kernelspec": {
   "display_name": "Python 3 (ipykernel)",
   "language": "python",
   "name": "python3"
  },
  "language_info": {
   "codemirror_mode": {
    "name": "ipython",
    "version": 3
   },
   "file_extension": ".py",
   "mimetype": "text/x-python",
   "name": "python",
   "nbconvert_exporter": "python",
   "pygments_lexer": "ipython3",
   "version": "3.10.9"
  }
 },
 "nbformat": 4,
 "nbformat_minor": 5
}
